{
 "cells": [
  {
   "cell_type": "markdown",
   "metadata": {},
   "source": [
    "# Tweet Anomaly Detection\n",
    "In this project we will be using a dataset that contains the daily volume of tweets about Apple and using this to detect anomalies. This data set can be downloaded from here: https://www.kaggle.com/boltzmannbrain/nab We will be looking at anomalies in volume of tweets in intraday time periods and also in daily time periods. We will be using a couple different methods of classifing anomalies. Then we will evaluate which method is better for detecting anomalies on our dataset."
   ]
  },
  {
   "cell_type": "markdown",
   "metadata": {},
   "source": [
    "lets start by importing necessary libraries"
   ]
  },
  {
   "cell_type": "code",
   "execution_count": 1,
   "metadata": {},
   "outputs": [
    {
     "name": "stderr",
     "output_type": "stream",
     "text": [
      "In C:\\Users\\brand\\Anaconda3\\lib\\site-packages\\matplotlib\\mpl-data\\stylelib\\_classic_test.mplstyle: \n",
      "The text.latex.preview rcparam was deprecated in Matplotlib 3.3 and will be removed two minor releases later.\n",
      "In C:\\Users\\brand\\Anaconda3\\lib\\site-packages\\matplotlib\\mpl-data\\stylelib\\_classic_test.mplstyle: \n",
      "The mathtext.fallback_to_cm rcparam was deprecated in Matplotlib 3.3 and will be removed two minor releases later.\n",
      "In C:\\Users\\brand\\Anaconda3\\lib\\site-packages\\matplotlib\\mpl-data\\stylelib\\_classic_test.mplstyle: Support for setting the 'mathtext.fallback_to_cm' rcParam is deprecated since 3.3 and will be removed two minor releases later; use 'mathtext.fallback : 'cm' instead.\n",
      "In C:\\Users\\brand\\Anaconda3\\lib\\site-packages\\matplotlib\\mpl-data\\stylelib\\_classic_test.mplstyle: \n",
      "The validate_bool_maybe_none function was deprecated in Matplotlib 3.3 and will be removed two minor releases later.\n",
      "In C:\\Users\\brand\\Anaconda3\\lib\\site-packages\\matplotlib\\mpl-data\\stylelib\\_classic_test.mplstyle: \n",
      "The savefig.jpeg_quality rcparam was deprecated in Matplotlib 3.3 and will be removed two minor releases later.\n",
      "In C:\\Users\\brand\\Anaconda3\\lib\\site-packages\\matplotlib\\mpl-data\\stylelib\\_classic_test.mplstyle: \n",
      "The keymap.all_axes rcparam was deprecated in Matplotlib 3.3 and will be removed two minor releases later.\n",
      "In C:\\Users\\brand\\Anaconda3\\lib\\site-packages\\matplotlib\\mpl-data\\stylelib\\_classic_test.mplstyle: \n",
      "The animation.avconv_path rcparam was deprecated in Matplotlib 3.3 and will be removed two minor releases later.\n",
      "In C:\\Users\\brand\\Anaconda3\\lib\\site-packages\\matplotlib\\mpl-data\\stylelib\\_classic_test.mplstyle: \n",
      "The animation.avconv_args rcparam was deprecated in Matplotlib 3.3 and will be removed two minor releases later.\n"
     ]
    }
   ],
   "source": [
    "import pandas as pd \n",
    "import numpy as np\n",
    "from sklearn.neighbors import NearestNeighbors\n",
    "from scipy.spatial import distance\n",
    "import matplotlib.pyplot as plt\n",
    "%matplotlib inline"
   ]
  },
  {
   "cell_type": "markdown",
   "metadata": {},
   "source": [
    "lets read in our dataset"
   ]
  },
  {
   "cell_type": "code",
   "execution_count": 2,
   "metadata": {},
   "outputs": [],
   "source": [
    "df = pd.read_csv(\"Twitter_volume_AAPL.csv\")"
   ]
  },
  {
   "cell_type": "markdown",
   "metadata": {},
   "source": [
    "lets check out our data"
   ]
  },
  {
   "cell_type": "code",
   "execution_count": 3,
   "metadata": {},
   "outputs": [
    {
     "data": {
      "text/plain": [
       "count    15902.000000\n",
       "mean        85.552320\n",
       "std        321.050721\n",
       "min          0.000000\n",
       "25%         29.000000\n",
       "50%         47.000000\n",
       "75%         76.000000\n",
       "max      13479.000000\n",
       "Name: value, dtype: float64"
      ]
     },
     "execution_count": 3,
     "metadata": {},
     "output_type": "execute_result"
    }
   ],
   "source": [
    "df[\"value\"].describe()"
   ]
  },
  {
   "cell_type": "markdown",
   "metadata": {},
   "source": [
    "Here we can see that the average volume of tweets per time period is about 86. Right off the bat we can see the max is way higher than the average so we know there are anomalies in this dataset."
   ]
  },
  {
   "cell_type": "code",
   "execution_count": 4,
   "metadata": {},
   "outputs": [
    {
     "data": {
      "text/plain": [
       "timestamp    0\n",
       "value        0\n",
       "dtype: int64"
      ]
     },
     "execution_count": 4,
     "metadata": {},
     "output_type": "execute_result"
    }
   ],
   "source": [
    "df.isnull().sum()"
   ]
  },
  {
   "cell_type": "markdown",
   "metadata": {},
   "source": [
    "There are no empty values"
   ]
  },
  {
   "cell_type": "markdown",
   "metadata": {},
   "source": [
    "Next we will find anomalies with Interquartile ranges. We will return True if the value is not in the range (Q1 - 1.5 * IQR))(Q3 + 1.5 * IQR)"
   ]
  },
  {
   "cell_type": "code",
   "execution_count": 5,
   "metadata": {},
   "outputs": [],
   "source": [
    "def getIQROutlier(series, data, name = \"IQR Outlier\"):\n",
    "    Q1 = data[series].quantile(0.25)\n",
    "    Q3 = data[series].quantile(0.75)\n",
    "    IQR = Q3 - Q1\n",
    "    data[name] = (data[series] < (Q1 - 1.5 * IQR)) |(data[series] > (Q3 + 1.5 * IQR))\n",
    "    normalValues = \"number of Normal Values: \" + str(data[name].value_counts()[0])\n",
    "    abnormalValues = \"number of Outlier Values: \" + str(data[name].value_counts()[1])\n",
    "    percent = str(data[name].value_counts()[1]/data[name].value_counts()[0]) + \"% of the data are outliers\"\n",
    "    print(normalValues)\n",
    "    print(abnormalValues)\n",
    "    print(percent)\n",
    "    data.boxplot(column=series, by=name)"
   ]
  },
  {
   "cell_type": "code",
   "execution_count": 6,
   "metadata": {},
   "outputs": [
    {
     "name": "stdout",
     "output_type": "stream",
     "text": [
      "number of Normal Values: 14652\n",
      "number of Outlier Values: 1250\n",
      "0.08531258531258532% of the data are outliers\n"
     ]
    },
    {
     "data": {
      "image/png": "[encoded data removed]",
      "text/plain": [
       "<Figure size 432x288 with 1 Axes>"
      ]
     },
     "metadata": {
      "needs_background": "light"
     },
     "output_type": "display_data"
    }
   ],
   "source": [
    "getIQROutlier(\"value\",df)"
   ]
  },
  {
   "cell_type": "markdown",
   "metadata": {},
   "source": [
    "Our current anomaly detection method has around 8% of the data classified as an anomaly. Lets keep a count of daily tweets and see if we can find more outliers. We start by splitting the date up by year, month, and day and them group them together."
   ]
  },
  {
   "cell_type": "code",
   "execution_count": 7,
   "metadata": {},
   "outputs": [],
   "source": [
    "df[\"date\"]=[d.date() for d in df['timestamp'].astype('datetime64[ns]')]\n",
    "df[[\"year\", \"mm\", \"day\"]] = df['date'].astype(str).str.split(\"-\", expand=True)"
   ]
  },
  {
   "cell_type": "code",
   "execution_count": 8,
   "metadata": {},
   "outputs": [
    {
     "data": {
      "text/html": [
       "<div>\n",
       "<style scoped>\n",
       "    .dataframe tbody tr th:only-of-type {\n",
       "        vertical-align: middle;\n",
       "    }\n",
       "\n",
       "    .dataframe tbody tr th {\n",
       "        vertical-align: top;\n",
       "    }\n",
       "\n",
       "    .dataframe thead th {\n",
       "        text-align: right;\n",
       "    }\n",
       "</style>\n",
       "<table border=\"1\" class=\"dataframe\">\n",
       "  <thead>\n",
       "    <tr style=\"text-align: right;\">\n",
       "      <th></th>\n",
       "      <th>timestamp</th>\n",
       "      <th>value</th>\n",
       "      <th>IQR Outlier</th>\n",
       "      <th>date</th>\n",
       "      <th>year</th>\n",
       "      <th>mm</th>\n",
       "      <th>day</th>\n",
       "    </tr>\n",
       "  </thead>\n",
       "  <tbody>\n",
       "    <tr>\n",
       "      <td>0</td>\n",
       "      <td>2015-02-26 21:42:53</td>\n",
       "      <td>104</td>\n",
       "      <td>False</td>\n",
       "      <td>2015-02-26</td>\n",
       "      <td>2015</td>\n",
       "      <td>02</td>\n",
       "      <td>26</td>\n",
       "    </tr>\n",
       "    <tr>\n",
       "      <td>1</td>\n",
       "      <td>2015-02-26 21:47:53</td>\n",
       "      <td>100</td>\n",
       "      <td>False</td>\n",
       "      <td>2015-02-26</td>\n",
       "      <td>2015</td>\n",
       "      <td>02</td>\n",
       "      <td>26</td>\n",
       "    </tr>\n",
       "    <tr>\n",
       "      <td>2</td>\n",
       "      <td>2015-02-26 21:52:53</td>\n",
       "      <td>99</td>\n",
       "      <td>False</td>\n",
       "      <td>2015-02-26</td>\n",
       "      <td>2015</td>\n",
       "      <td>02</td>\n",
       "      <td>26</td>\n",
       "    </tr>\n",
       "    <tr>\n",
       "      <td>3</td>\n",
       "      <td>2015-02-26 21:57:53</td>\n",
       "      <td>154</td>\n",
       "      <td>True</td>\n",
       "      <td>2015-02-26</td>\n",
       "      <td>2015</td>\n",
       "      <td>02</td>\n",
       "      <td>26</td>\n",
       "    </tr>\n",
       "    <tr>\n",
       "      <td>4</td>\n",
       "      <td>2015-02-26 22:02:53</td>\n",
       "      <td>120</td>\n",
       "      <td>False</td>\n",
       "      <td>2015-02-26</td>\n",
       "      <td>2015</td>\n",
       "      <td>02</td>\n",
       "      <td>26</td>\n",
       "    </tr>\n",
       "  </tbody>\n",
       "</table>\n",
       "</div>"
      ],
      "text/plain": [
       "             timestamp  value  IQR Outlier        date  year  mm day\n",
       "0  2015-02-26 21:42:53    104        False  2015-02-26  2015  02  26\n",
       "1  2015-02-26 21:47:53    100        False  2015-02-26  2015  02  26\n",
       "2  2015-02-26 21:52:53     99        False  2015-02-26  2015  02  26\n",
       "3  2015-02-26 21:57:53    154         True  2015-02-26  2015  02  26\n",
       "4  2015-02-26 22:02:53    120        False  2015-02-26  2015  02  26"
      ]
     },
     "execution_count": 8,
     "metadata": {},
     "output_type": "execute_result"
    }
   ],
   "source": [
    "df.head()"
   ]
  },
  {
   "cell_type": "markdown",
   "metadata": {},
   "source": [
    "lets get our daily value counts and check out the distribution."
   ]
  },
  {
   "cell_type": "code",
   "execution_count": 9,
   "metadata": {},
   "outputs": [],
   "source": [
    "def dailyValues(data):\n",
    "    return pd.DataFrame({'daily_count' : data.groupby( ['year','mm','day'] ).value.sum()}).reset_index()"
   ]
  },
  {
   "cell_type": "code",
   "execution_count": 10,
   "metadata": {},
   "outputs": [
    {
     "data": {
      "text/html": [
       "<div>\n",
       "<style scoped>\n",
       "    .dataframe tbody tr th:only-of-type {\n",
       "        vertical-align: middle;\n",
       "    }\n",
       "\n",
       "    .dataframe tbody tr th {\n",
       "        vertical-align: top;\n",
       "    }\n",
       "\n",
       "    .dataframe thead th {\n",
       "        text-align: right;\n",
       "    }\n",
       "</style>\n",
       "<table border=\"1\" class=\"dataframe\">\n",
       "  <thead>\n",
       "    <tr style=\"text-align: right;\">\n",
       "      <th></th>\n",
       "      <th>daily_count</th>\n",
       "    </tr>\n",
       "  </thead>\n",
       "  <tbody>\n",
       "    <tr>\n",
       "      <td>count</td>\n",
       "      <td>57.000000</td>\n",
       "    </tr>\n",
       "    <tr>\n",
       "      <td>mean</td>\n",
       "      <td>23867.596491</td>\n",
       "    </tr>\n",
       "    <tr>\n",
       "      <td>std</td>\n",
       "      <td>22489.648986</td>\n",
       "    </tr>\n",
       "    <tr>\n",
       "      <td>min</td>\n",
       "      <td>1880.000000</td>\n",
       "    </tr>\n",
       "    <tr>\n",
       "      <td>25%</td>\n",
       "      <td>12037.000000</td>\n",
       "    </tr>\n",
       "    <tr>\n",
       "      <td>50%</td>\n",
       "      <td>18569.000000</td>\n",
       "    </tr>\n",
       "    <tr>\n",
       "      <td>75%</td>\n",
       "      <td>25585.000000</td>\n",
       "    </tr>\n",
       "    <tr>\n",
       "      <td>max</td>\n",
       "      <td>122325.000000</td>\n",
       "    </tr>\n",
       "  </tbody>\n",
       "</table>\n",
       "</div>"
      ],
      "text/plain": [
       "         daily_count\n",
       "count      57.000000\n",
       "mean    23867.596491\n",
       "std     22489.648986\n",
       "min      1880.000000\n",
       "25%     12037.000000\n",
       "50%     18569.000000\n",
       "75%     25585.000000\n",
       "max    122325.000000"
      ]
     },
     "execution_count": 10,
     "metadata": {},
     "output_type": "execute_result"
    }
   ],
   "source": [
    "dailydata = dailyValues(df)\n",
    "dailydata.describe()"
   ]
  },
  {
   "cell_type": "code",
   "execution_count": 11,
   "metadata": {},
   "outputs": [
    {
     "data": {
      "text/html": [
       "<div>\n",
       "<style scoped>\n",
       "    .dataframe tbody tr th:only-of-type {\n",
       "        vertical-align: middle;\n",
       "    }\n",
       "\n",
       "    .dataframe tbody tr th {\n",
       "        vertical-align: top;\n",
       "    }\n",
       "\n",
       "    .dataframe thead th {\n",
       "        text-align: right;\n",
       "    }\n",
       "</style>\n",
       "<table border=\"1\" class=\"dataframe\">\n",
       "  <thead>\n",
       "    <tr style=\"text-align: right;\">\n",
       "      <th></th>\n",
       "      <th>year</th>\n",
       "      <th>mm</th>\n",
       "      <th>day</th>\n",
       "      <th>daily_count</th>\n",
       "    </tr>\n",
       "  </thead>\n",
       "  <tbody>\n",
       "    <tr>\n",
       "      <td>0</td>\n",
       "      <td>2015</td>\n",
       "      <td>02</td>\n",
       "      <td>26</td>\n",
       "      <td>3336</td>\n",
       "    </tr>\n",
       "    <tr>\n",
       "      <td>1</td>\n",
       "      <td>2015</td>\n",
       "      <td>02</td>\n",
       "      <td>27</td>\n",
       "      <td>19498</td>\n",
       "    </tr>\n",
       "    <tr>\n",
       "      <td>2</td>\n",
       "      <td>2015</td>\n",
       "      <td>02</td>\n",
       "      <td>28</td>\n",
       "      <td>11909</td>\n",
       "    </tr>\n",
       "    <tr>\n",
       "      <td>3</td>\n",
       "      <td>2015</td>\n",
       "      <td>03</td>\n",
       "      <td>01</td>\n",
       "      <td>7890</td>\n",
       "    </tr>\n",
       "    <tr>\n",
       "      <td>4</td>\n",
       "      <td>2015</td>\n",
       "      <td>03</td>\n",
       "      <td>02</td>\n",
       "      <td>12426</td>\n",
       "    </tr>\n",
       "  </tbody>\n",
       "</table>\n",
       "</div>"
      ],
      "text/plain": [
       "   year  mm day  daily_count\n",
       "0  2015  02  26         3336\n",
       "1  2015  02  27        19498\n",
       "2  2015  02  28        11909\n",
       "3  2015  03  01         7890\n",
       "4  2015  03  02        12426"
      ]
     },
     "execution_count": 11,
     "metadata": {},
     "output_type": "execute_result"
    }
   ],
   "source": [
    "dailydata.head()"
   ]
  },
  {
   "cell_type": "code",
   "execution_count": 12,
   "metadata": {},
   "outputs": [
    {
     "name": "stdout",
     "output_type": "stream",
     "text": [
      "number of Normal Values: 52\n",
      "number of Outlier Values: 5\n",
      "0.09615384615384616% of the data are outliers\n"
     ]
    },
    {
     "data": {
      "image/png": "[encoded data removed]",
      "text/plain": [
       "<Figure size 432x288 with 1 Axes>"
      ]
     },
     "metadata": {
      "needs_background": "light"
     },
     "output_type": "display_data"
    }
   ],
   "source": [
    "getIQROutlier(\"daily_count\",dailydata)"
   ]
  },
  {
   "cell_type": "markdown",
   "metadata": {},
   "source": [
    "Here we can see that almost 10% of the daily data is considered an outlier with our model. Lets try some different models for detecting anomalies."
   ]
  },
  {
   "cell_type": "code",
   "execution_count": 13,
   "metadata": {},
   "outputs": [
    {
     "data": {
      "text/html": [
       "<div>\n",
       "<style scoped>\n",
       "    .dataframe tbody tr th:only-of-type {\n",
       "        vertical-align: middle;\n",
       "    }\n",
       "\n",
       "    .dataframe tbody tr th {\n",
       "        vertical-align: top;\n",
       "    }\n",
       "\n",
       "    .dataframe thead th {\n",
       "        text-align: right;\n",
       "    }\n",
       "</style>\n",
       "<table border=\"1\" class=\"dataframe\">\n",
       "  <thead>\n",
       "    <tr style=\"text-align: right;\">\n",
       "      <th></th>\n",
       "      <th>value</th>\n",
       "    </tr>\n",
       "  </thead>\n",
       "  <tbody>\n",
       "    <tr>\n",
       "      <td>0</td>\n",
       "      <td>104</td>\n",
       "    </tr>\n",
       "    <tr>\n",
       "      <td>1</td>\n",
       "      <td>100</td>\n",
       "    </tr>\n",
       "    <tr>\n",
       "      <td>2</td>\n",
       "      <td>99</td>\n",
       "    </tr>\n",
       "    <tr>\n",
       "      <td>3</td>\n",
       "      <td>154</td>\n",
       "    </tr>\n",
       "    <tr>\n",
       "      <td>4</td>\n",
       "      <td>120</td>\n",
       "    </tr>\n",
       "  </tbody>\n",
       "</table>\n",
       "</div>"
      ],
      "text/plain": [
       "   value\n",
       "0    104\n",
       "1    100\n",
       "2     99\n",
       "3    154\n",
       "4    120"
      ]
     },
     "execution_count": 13,
     "metadata": {},
     "output_type": "execute_result"
    }
   ],
   "source": [
    "temp = df\n",
    "temp = temp.drop(columns=[\"timestamp\", \"IQR Outlier\", \"date\", \"year\", \"mm\", \"day\"])\n",
    "temp.head()"
   ]
  },
  {
   "cell_type": "markdown",
   "metadata": {},
   "source": [
    "Here will be using K neares Neighbor clustering model to score anomalies based on their distance from other data point."
   ]
  },
  {
   "cell_type": "code",
   "execution_count": 14,
   "metadata": {},
   "outputs": [
    {
     "name": "stderr",
     "output_type": "stream",
     "text": [
      "C:\\Users\\brand\\Anaconda3\\lib\\site-packages\\ipykernel_launcher.py:2: FutureWarning: Method .as_matrix will be removed in a future version. Use .values instead.\n",
      "  \n",
      "C:\\Users\\brand\\Anaconda3\\lib\\site-packages\\ipykernel_launcher.py:3: FutureWarning: Method .as_matrix will be removed in a future version. Use .values instead.\n",
      "  This is separate from the ipykernel package so we can avoid doing imports until\n"
     ]
    }
   ],
   "source": [
    "knn = 4\n",
    "nbrs = NearestNeighbors(n_neighbors=knn, metric=distance.euclidean).fit(temp.as_matrix())\n",
    "distances, indices = nbrs.kneighbors(temp.as_matrix())\n",
    "\n",
    "anomaly_score = distances[:,knn-1]\n",
    "\n",
    "anom = pd.DataFrame(anomaly_score, index=df.index, columns=['Anomaly score'])\n",
    "result = pd.concat((df,anom), axis=1)\n"
   ]
  },
  {
   "cell_type": "code",
   "execution_count": 15,
   "metadata": {},
   "outputs": [
    {
     "data": {
      "text/html": [
       "<div>\n",
       "<style scoped>\n",
       "    .dataframe tbody tr th:only-of-type {\n",
       "        vertical-align: middle;\n",
       "    }\n",
       "\n",
       "    .dataframe tbody tr th {\n",
       "        vertical-align: top;\n",
       "    }\n",
       "\n",
       "    .dataframe thead th {\n",
       "        text-align: right;\n",
       "    }\n",
       "</style>\n",
       "<table border=\"1\" class=\"dataframe\">\n",
       "  <thead>\n",
       "    <tr style=\"text-align: right;\">\n",
       "      <th></th>\n",
       "      <th>timestamp</th>\n",
       "      <th>value</th>\n",
       "      <th>IQR Outlier</th>\n",
       "      <th>date</th>\n",
       "      <th>year</th>\n",
       "      <th>mm</th>\n",
       "      <th>day</th>\n",
       "      <th>Anomaly score</th>\n",
       "    </tr>\n",
       "  </thead>\n",
       "  <tbody>\n",
       "    <tr>\n",
       "      <td>9285</td>\n",
       "      <td>2015-03-31 03:27:53</td>\n",
       "      <td>13479</td>\n",
       "      <td>True</td>\n",
       "      <td>2015-03-31</td>\n",
       "      <td>2015</td>\n",
       "      <td>03</td>\n",
       "      <td>31</td>\n",
       "      <td>3107.0</td>\n",
       "    </tr>\n",
       "    <tr>\n",
       "      <td>13555</td>\n",
       "      <td>2015-04-14 23:17:53</td>\n",
       "      <td>11694</td>\n",
       "      <td>True</td>\n",
       "      <td>2015-04-14</td>\n",
       "      <td>2015</td>\n",
       "      <td>04</td>\n",
       "      <td>14</td>\n",
       "      <td>1785.0</td>\n",
       "    </tr>\n",
       "    <tr>\n",
       "      <td>13556</td>\n",
       "      <td>2015-04-14 23:22:53</td>\n",
       "      <td>11899</td>\n",
       "      <td>True</td>\n",
       "      <td>2015-04-14</td>\n",
       "      <td>2015</td>\n",
       "      <td>04</td>\n",
       "      <td>14</td>\n",
       "      <td>1580.0</td>\n",
       "    </tr>\n",
       "    <tr>\n",
       "      <td>9284</td>\n",
       "      <td>2015-03-31 03:22:53</td>\n",
       "      <td>10372</td>\n",
       "      <td>True</td>\n",
       "      <td>2015-03-31</td>\n",
       "      <td>2015</td>\n",
       "      <td>03</td>\n",
       "      <td>31</td>\n",
       "      <td>1322.0</td>\n",
       "    </tr>\n",
       "    <tr>\n",
       "      <td>9282</td>\n",
       "      <td>2015-03-31 03:12:53</td>\n",
       "      <td>6418</td>\n",
       "      <td>True</td>\n",
       "      <td>2015-03-31</td>\n",
       "      <td>2015</td>\n",
       "      <td>03</td>\n",
       "      <td>31</td>\n",
       "      <td>1169.0</td>\n",
       "    </tr>\n",
       "    <tr>\n",
       "      <td>...</td>\n",
       "      <td>...</td>\n",
       "      <td>...</td>\n",
       "      <td>...</td>\n",
       "      <td>...</td>\n",
       "      <td>...</td>\n",
       "      <td>...</td>\n",
       "      <td>...</td>\n",
       "      <td>...</td>\n",
       "    </tr>\n",
       "    <tr>\n",
       "      <td>3100</td>\n",
       "      <td>2015-03-09 16:02:53</td>\n",
       "      <td>1464</td>\n",
       "      <td>True</td>\n",
       "      <td>2015-03-09</td>\n",
       "      <td>2015</td>\n",
       "      <td>03</td>\n",
       "      <td>09</td>\n",
       "      <td>21.0</td>\n",
       "    </tr>\n",
       "    <tr>\n",
       "      <td>9489</td>\n",
       "      <td>2015-03-31 20:27:53</td>\n",
       "      <td>1401</td>\n",
       "      <td>True</td>\n",
       "      <td>2015-03-31</td>\n",
       "      <td>2015</td>\n",
       "      <td>03</td>\n",
       "      <td>31</td>\n",
       "      <td>21.0</td>\n",
       "    </tr>\n",
       "    <tr>\n",
       "      <td>1438</td>\n",
       "      <td>2015-03-03 21:32:53</td>\n",
       "      <td>1585</td>\n",
       "      <td>True</td>\n",
       "      <td>2015-03-03</td>\n",
       "      <td>2015</td>\n",
       "      <td>03</td>\n",
       "      <td>03</td>\n",
       "      <td>20.0</td>\n",
       "    </tr>\n",
       "    <tr>\n",
       "      <td>4938</td>\n",
       "      <td>2015-03-16 01:12:53</td>\n",
       "      <td>957</td>\n",
       "      <td>True</td>\n",
       "      <td>2015-03-16</td>\n",
       "      <td>2015</td>\n",
       "      <td>03</td>\n",
       "      <td>16</td>\n",
       "      <td>20.0</td>\n",
       "    </tr>\n",
       "    <tr>\n",
       "      <td>15068</td>\n",
       "      <td>2015-04-20 05:22:53</td>\n",
       "      <td>1605</td>\n",
       "      <td>True</td>\n",
       "      <td>2015-04-20</td>\n",
       "      <td>2015</td>\n",
       "      <td>04</td>\n",
       "      <td>20</td>\n",
       "      <td>20.0</td>\n",
       "    </tr>\n",
       "  </tbody>\n",
       "</table>\n",
       "<p>80 rows × 8 columns</p>\n",
       "</div>"
      ],
      "text/plain": [
       "                 timestamp  value  IQR Outlier        date  year  mm day  \\\n",
       "9285   2015-03-31 03:27:53  13479         True  2015-03-31  2015  03  31   \n",
       "13555  2015-04-14 23:17:53  11694         True  2015-04-14  2015  04  14   \n",
       "13556  2015-04-14 23:22:53  11899         True  2015-04-14  2015  04  14   \n",
       "9284   2015-03-31 03:22:53  10372         True  2015-03-31  2015  03  31   \n",
       "9282   2015-03-31 03:12:53   6418         True  2015-03-31  2015  03  31   \n",
       "...                    ...    ...          ...         ...   ...  ..  ..   \n",
       "3100   2015-03-09 16:02:53   1464         True  2015-03-09  2015  03  09   \n",
       "9489   2015-03-31 20:27:53   1401         True  2015-03-31  2015  03  31   \n",
       "1438   2015-03-03 21:32:53   1585         True  2015-03-03  2015  03  03   \n",
       "4938   2015-03-16 01:12:53    957         True  2015-03-16  2015  03  16   \n",
       "15068  2015-04-20 05:22:53   1605         True  2015-04-20  2015  04  20   \n",
       "\n",
       "       Anomaly score  \n",
       "9285          3107.0  \n",
       "13555         1785.0  \n",
       "13556         1580.0  \n",
       "9284          1322.0  \n",
       "9282          1169.0  \n",
       "...              ...  \n",
       "3100            21.0  \n",
       "9489            21.0  \n",
       "1438            20.0  \n",
       "4938            20.0  \n",
       "15068           20.0  \n",
       "\n",
       "[80 rows x 8 columns]"
      ]
     },
     "execution_count": 15,
     "metadata": {},
     "output_type": "execute_result"
    }
   ],
   "source": [
    "result.nlargest(round(len(df)*.005),'Anomaly score')"
   ]
  },
  {
   "cell_type": "markdown",
   "metadata": {},
   "source": [
    "here we can see that taking 0.5% of the highest scores gives us anomaly scores in the 20's on up to 3107. Lets plot all the data together and use the anomaly score as a heat index."
   ]
  },
  {
   "cell_type": "code",
   "execution_count": 16,
   "metadata": {},
   "outputs": [
    {
     "data": {
      "image/png": "[encoded data removed]",
      "text/plain": [
       "<Figure size 720x432 with 2 Axes>"
      ]
     },
     "metadata": {
      "needs_background": "light"
     },
     "output_type": "display_data"
    }
   ],
   "source": [
    "fig = plt.figure(figsize=(10,6))\n",
    "ax = fig.add_subplot(111)\n",
    "p = ax.scatter(df.date,df.value, c=anomaly_score,cmap='jet')\n",
    "ax.set_xlabel('Date')\n",
    "ax.set_ylabel('value')\n",
    "fig.colorbar(p)\n",
    "plt.show()\n"
   ]
  },
  {
   "cell_type": "markdown",
   "metadata": {},
   "source": [
    "Here is the data again but only plotting the data with the top 00.5% of high Anomaly scores."
   ]
  },
  {
   "cell_type": "code",
   "execution_count": 17,
   "metadata": {},
   "outputs": [
    {
     "data": {
      "image/png": "[encoded data removed]",
      "text/plain": [
       "<Figure size 720x432 with 2 Axes>"
      ]
     },
     "metadata": {
      "needs_background": "light"
     },
     "output_type": "display_data"
    }
   ],
   "source": [
    "fig = plt.figure(figsize=(10,6))\n",
    "ax = fig.add_subplot(111)\n",
    "p = ax.scatter(result.nlargest(round(len(df)*.005),'Anomaly score').date,result.nlargest(round(len(df)*.005),'Anomaly score').value, c=result.nlargest(round(len(df)*.005),'Anomaly score')[\"Anomaly score\"],cmap='jet')\n",
    "ax.set_xlabel('Date')\n",
    "ax.set_ylabel('value')\n",
    "fig.colorbar(p)\n",
    "plt.show()\n"
   ]
  },
  {
   "cell_type": "markdown",
   "metadata": {},
   "source": [
    "We can see that even only taking a half percent of the data, some of the data points plotted above don't really look like big anomalies."
   ]
  },
  {
   "cell_type": "markdown",
   "metadata": {},
   "source": [
    "Next lets compare this to the IQR Outlier results from earlier. We will plot only the datapoints that were labeled True in our IQR Outliers column."
   ]
  },
  {
   "cell_type": "code",
   "execution_count": 18,
   "metadata": {},
   "outputs": [],
   "source": [
    "iqrres = result[result[\"IQR Outlier\"]==True]"
   ]
  },
  {
   "cell_type": "code",
   "execution_count": 19,
   "metadata": {},
   "outputs": [
    {
     "data": {
      "image/png": "[encoded data removed]",
      "text/plain": [
       "<Figure size 720x432 with 2 Axes>"
      ]
     },
     "metadata": {
      "needs_background": "light"
     },
     "output_type": "display_data"
    }
   ],
   "source": [
    "fig = plt.figure(figsize=(10,6))\n",
    "ax = fig.add_subplot(111)\n",
    "p = ax.scatter(iqrres.date,iqrres.value, c=iqrres[\"Anomaly score\"],cmap='jet')\n",
    "ax.set_xlabel('Date')\n",
    "ax.set_ylabel('value')\n",
    "fig.colorbar(p)\n",
    "plt.show()\n"
   ]
  },
  {
   "cell_type": "markdown",
   "metadata": {},
   "source": [
    "We can see that our IQR Outliers probably considered way too many things to be an anomaly, it seems that taking 0.5% of the highest anomaly scores from our Knearest neighbor model would be a more useful anomaily detector."
   ]
  },
  {
   "cell_type": "markdown",
   "metadata": {},
   "source": [
    "lets check train a nearest neighbor model for our daily data and see the results"
   ]
  },
  {
   "cell_type": "code",
   "execution_count": 20,
   "metadata": {},
   "outputs": [
    {
     "name": "stderr",
     "output_type": "stream",
     "text": [
      "C:\\Users\\brand\\Anaconda3\\lib\\site-packages\\ipykernel_launcher.py:6: FutureWarning: Method .as_matrix will be removed in a future version. Use .values instead.\n",
      "  \n",
      "C:\\Users\\brand\\Anaconda3\\lib\\site-packages\\ipykernel_launcher.py:7: FutureWarning: Method .as_matrix will be removed in a future version. Use .values instead.\n",
      "  import sys\n"
     ]
    }
   ],
   "source": [
    "dailydata['date'] = dailydata[\"year\"] +\"-\"+dailydata[\"mm\"]+\"-\"+dailydata[\"day\"]\n",
    "temp = dailydata\n",
    "temp = temp.drop(columns=[\"IQR Outlier\", \"year\", \"mm\", \"day\", \"date\"])\n",
    "temp.head()\n",
    "knn = 4\n",
    "nbrs = NearestNeighbors(n_neighbors=knn, metric=distance.euclidean).fit(temp.as_matrix())\n",
    "distances, indices = nbrs.kneighbors(temp.as_matrix())\n",
    "\n",
    "anomaly_score = distances[:,knn-1]\n",
    "\n",
    "anom = pd.DataFrame(anomaly_score, index=dailydata.index, columns=['Anomaly score'])\n",
    "result = pd.concat((dailydata,anom), axis=1)\n"
   ]
  },
  {
   "cell_type": "code",
   "execution_count": 21,
   "metadata": {},
   "outputs": [
    {
     "data": {
      "text/html": [
       "<div>\n",
       "<style scoped>\n",
       "    .dataframe tbody tr th:only-of-type {\n",
       "        vertical-align: middle;\n",
       "    }\n",
       "\n",
       "    .dataframe tbody tr th {\n",
       "        vertical-align: top;\n",
       "    }\n",
       "\n",
       "    .dataframe thead th {\n",
       "        text-align: right;\n",
       "    }\n",
       "</style>\n",
       "<table border=\"1\" class=\"dataframe\">\n",
       "  <thead>\n",
       "    <tr style=\"text-align: right;\">\n",
       "      <th></th>\n",
       "      <th>year</th>\n",
       "      <th>mm</th>\n",
       "      <th>day</th>\n",
       "      <th>daily_count</th>\n",
       "      <th>IQR Outlier</th>\n",
       "      <th>date</th>\n",
       "      <th>Anomaly score</th>\n",
       "    </tr>\n",
       "  </thead>\n",
       "  <tbody>\n",
       "    <tr>\n",
       "      <td>33</td>\n",
       "      <td>2015</td>\n",
       "      <td>03</td>\n",
       "      <td>31</td>\n",
       "      <td>122325</td>\n",
       "      <td>True</td>\n",
       "      <td>2015-03-31</td>\n",
       "      <td>61748.0</td>\n",
       "    </tr>\n",
       "    <tr>\n",
       "      <td>47</td>\n",
       "      <td>2015</td>\n",
       "      <td>04</td>\n",
       "      <td>14</td>\n",
       "      <td>116597</td>\n",
       "      <td>True</td>\n",
       "      <td>2015-04-14</td>\n",
       "      <td>56020.0</td>\n",
       "    </tr>\n",
       "    <tr>\n",
       "      <td>11</td>\n",
       "      <td>2015</td>\n",
       "      <td>03</td>\n",
       "      <td>09</td>\n",
       "      <td>62570</td>\n",
       "      <td>True</td>\n",
       "      <td>2015-03-09</td>\n",
       "      <td>17043.0</td>\n",
       "    </tr>\n",
       "    <tr>\n",
       "      <td>18</td>\n",
       "      <td>2015</td>\n",
       "      <td>03</td>\n",
       "      <td>16</td>\n",
       "      <td>60577</td>\n",
       "      <td>True</td>\n",
       "      <td>2015-03-16</td>\n",
       "      <td>15050.0</td>\n",
       "    </tr>\n",
       "    <tr>\n",
       "      <td>54</td>\n",
       "      <td>2015</td>\n",
       "      <td>04</td>\n",
       "      <td>21</td>\n",
       "      <td>48696</td>\n",
       "      <td>True</td>\n",
       "      <td>2015-04-21</td>\n",
       "      <td>7653.0</td>\n",
       "    </tr>\n",
       "    <tr>\n",
       "      <td>5</td>\n",
       "      <td>2015</td>\n",
       "      <td>03</td>\n",
       "      <td>03</td>\n",
       "      <td>37832</td>\n",
       "      <td>False</td>\n",
       "      <td>2015-03-03</td>\n",
       "      <td>6548.0</td>\n",
       "    </tr>\n",
       "  </tbody>\n",
       "</table>\n",
       "</div>"
      ],
      "text/plain": [
       "    year  mm day  daily_count  IQR Outlier        date  Anomaly score\n",
       "33  2015  03  31       122325         True  2015-03-31        61748.0\n",
       "47  2015  04  14       116597         True  2015-04-14        56020.0\n",
       "11  2015  03  09        62570         True  2015-03-09        17043.0\n",
       "18  2015  03  16        60577         True  2015-03-16        15050.0\n",
       "54  2015  04  21        48696         True  2015-04-21         7653.0\n",
       "5   2015  03  03        37832        False  2015-03-03         6548.0"
      ]
     },
     "execution_count": 21,
     "metadata": {},
     "output_type": "execute_result"
    }
   ],
   "source": [
    "result.nlargest(round(len(dailydata)*.1),'Anomaly score')\n"
   ]
  },
  {
   "cell_type": "code",
   "execution_count": 22,
   "metadata": {},
   "outputs": [
    {
     "data": {
      "image/png": "[encoded data removed]",
      "text/plain": [
       "<Figure size 720x432 with 2 Axes>"
      ]
     },
     "metadata": {
      "needs_background": "light"
     },
     "output_type": "display_data"
    }
   ],
   "source": [
    "fig = plt.figure(figsize=(10,6))\n",
    "ax = fig.add_subplot(111)\n",
    "p = ax.scatter(result.nlargest(round(len(dailydata)*.1),'Anomaly score').date,result.nlargest(round(len(dailydata)*.1),'Anomaly score').daily_count, c=result.nlargest(round(len(dailydata)*.1),'Anomaly score')[\"Anomaly score\"],cmap='jet')\n",
    "ax.set_xlabel('Date')\n",
    "ax.set_ylabel('value')\n",
    "fig.colorbar(p)\n",
    "plt.show()\n"
   ]
  },
  {
   "cell_type": "markdown",
   "metadata": {},
   "source": [
    "Here we take the top 10% of highest anomaly scores for daily counts. It seems the last one may not be a large anomily. Lets compare this to the IQR Outliers results for the daily data."
   ]
  },
  {
   "cell_type": "code",
   "execution_count": 23,
   "metadata": {},
   "outputs": [],
   "source": [
    "iqrres = result[result[\"IQR Outlier\"]==True]"
   ]
  },
  {
   "cell_type": "code",
   "execution_count": 24,
   "metadata": {},
   "outputs": [
    {
     "data": {
      "image/png": "[encoded data removed]",
      "text/plain": [
       "<Figure size 720x432 with 2 Axes>"
      ]
     },
     "metadata": {
      "needs_background": "light"
     },
     "output_type": "display_data"
    }
   ],
   "source": [
    "fig = plt.figure(figsize=(10,6))\n",
    "ax = fig.add_subplot(111)\n",
    "p = ax.scatter(iqrres.date,iqrres.daily_count, c=iqrres[\"Anomaly score\"],cmap='jet')\n",
    "ax.set_xlabel('Date')\n",
    "ax.set_ylabel('value')\n",
    "fig.colorbar(p)\n",
    "plt.show()\n"
   ]
  },
  {
   "cell_type": "markdown",
   "metadata": {},
   "source": [
    "This method has a vey small improvement, possibly because the dataset for daily data is much smaller than the other dataset. I think in general the K nearest neighbor method is better for dectecting anomalies because it scores the anomalies based on their distance. The IQR method we used did not score the anomalies, rather it just marked outliers as true. This puts \"outliers\" that are less of an anomaly on the same level as large anomalies, the KNN does not have that flaw."
   ]
  }
 ],
 "metadata": {
  "kernelspec": {
   "display_name": "Python 3",
   "language": "python",
   "name": "python3"
  },
  "language_info": {
   "codemirror_mode": {
    "name": "ipython",
    "version": 3
   },
   "file_extension": ".py",
   "mimetype": "text/x-python",
   "name": "python",
   "nbconvert_exporter": "python",
   "pygments_lexer": "ipython3",
   "version": "3.7.4"
  }
 },
 "nbformat": 4,
 "nbformat_minor": 2
}
